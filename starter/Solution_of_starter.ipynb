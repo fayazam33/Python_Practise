{
 "cells": [
  {
   "cell_type": "markdown",
   "metadata": {},
   "source": [
    "Problem-1: Write a program to find the length of the variable name"
   ]
  },
  {
   "cell_type": "code",
   "execution_count": 2,
   "metadata": {},
   "outputs": [
    {
     "name": "stdout",
     "output_type": "stream",
     "text": [
      "11\n"
     ]
    }
   ],
   "source": [
    "name=\"Hello there\"\n",
    "print(len(name))\n"
   ]
  },
  {
   "cell_type": "markdown",
   "metadata": {},
   "source": [
    "Problem-2: Write a program to find the type of the variable name"
   ]
  },
  {
   "cell_type": "code",
   "execution_count": 3,
   "metadata": {},
   "outputs": [
    {
     "name": "stdout",
     "output_type": "stream",
     "text": [
      "<class 'str'>\n"
     ]
    }
   ],
   "source": [
    "name=\"Hello there\"\n",
    "print(type(name))"
   ]
  },
  {
   "cell_type": "markdown",
   "metadata": {},
   "source": [
    "Problem-3: Write a function that takes 2 numbers as arguments (age of two brothers) and find who is elder"
   ]
  },
  {
   "cell_type": "code",
   "execution_count": 4,
   "metadata": {},
   "outputs": [
    {
     "name": "stdout",
     "output_type": "stream",
     "text": [
      "Brother 1 is elder.\n",
      "Brother 2 is elder.\n",
      "Both brothers are of the same age.\n"
     ]
    }
   ],
   "source": [
    "def find_elder_brother(age1, age2):\n",
    "    if age1 > age2:\n",
    "        return \"Brother 1 is elder.\"\n",
    "    elif age2 > age1:\n",
    "        return \"Brother 2 is elder.\"\n",
    "    else:\n",
    "        return \"Both brothers are of the same age.\"\n",
    "\n",
    "\n",
    "\n",
    "print(find_elder_brother(25, 20))  \n",
    "print(find_elder_brother(18, 22))  \n",
    "print(find_elder_brother(30, 30))  \n"
   ]
  },
  {
   "cell_type": "markdown",
   "metadata": {},
   "source": [
    "Problem-4: Write a program to find the index of 7"
   ]
  },
  {
   "cell_type": "code",
   "execution_count": 5,
   "metadata": {},
   "outputs": [
    {
     "name": "stdout",
     "output_type": "stream",
     "text": [
      "The index of 7 is: 4\n"
     ]
    }
   ],
   "source": [
    "numbers=[3, 5, 1, 9, 7, 2, 8 ]\n",
    "print(\"The index of 7 is:\", numbers.index(7))"
   ]
  },
  {
   "cell_type": "markdown",
   "metadata": {},
   "source": [
    "Problem-5: Write a program to sort the numbers in Ascending order"
   ]
  },
  {
   "cell_type": "code",
   "execution_count": null,
   "metadata": {},
   "outputs": [
    {
     "name": "stdout",
     "output_type": "stream",
     "text": [
      "Reversed list: [8, 2, 7, 9, 1, 5, 3]\n"
     ]
    }
   ],
   "source": [
    "reverse = numbers[::-1]\n",
    "print(\"Reversed list:\", reverse)\n",
    "\n",
    "#reverse() function o bebohar kora jai\n"
   ]
  },
  {
   "cell_type": "markdown",
   "metadata": {},
   "source": [
    "Problem-6: Write a function named \"isLandscape\" that takes 2 numbers (image width and height) as arguments and the function returns Landscape if the image width has a higher value than height. Returns Portrait otherwise"
   ]
  },
  {
   "cell_type": "code",
   "execution_count": 1,
   "metadata": {},
   "outputs": [
    {
     "name": "stdout",
     "output_type": "stream",
     "text": [
      "Landscape\n",
      "Portrait\n"
     ]
    }
   ],
   "source": [
    "def isLandscape(width , height):\n",
    "    if(width>height) :\n",
    "        return \"Landscape\"\n",
    "    else:\n",
    "        return \"Portrait\"\n",
    "    \n",
    "print(isLandscape(1920, 1080))  \n",
    "print(isLandscape(800, 1200))   \n"
   ]
  },
  {
   "cell_type": "markdown",
   "metadata": {},
   "source": [
    "Problem-7: Write a function that takes 1 number as argument. The function should return “Fizz” if the number is divisible by 3, the function should return “Buzz” if the number is divisible by 5, the function should return “FizzBuzz” if the number is divisible by both 5 and 3, otherwise return “Not a Fizz-buzz number”"
   ]
  },
  {
   "cell_type": "code",
   "execution_count": 2,
   "metadata": {},
   "outputs": [
    {
     "name": "stdout",
     "output_type": "stream",
     "text": [
      "FizzBuzz\n",
      "Fizz\n",
      "Buzz\n",
      "Not a Fizz-buzz number\n"
     ]
    }
   ],
   "source": [
    "def fizz_buzz(number):\n",
    "    if number % 3 == 0 and number % 5 == 0:\n",
    "        return \"FizzBuzz\"\n",
    "    elif number % 3 == 0:\n",
    "        return \"Fizz\"\n",
    "    elif number % 5 == 0:\n",
    "        return \"Buzz\"\n",
    "    else:\n",
    "        return \"Not a Fizz-buzz number\"\n",
    "    \n",
    "print(fizz_buzz(15)) \n",
    "print(fizz_buzz(9))   \n",
    "print(fizz_buzz(10))  \n",
    "print(fizz_buzz(7))   \n"
   ]
  },
  {
   "cell_type": "markdown",
   "metadata": {},
   "source": [
    "Write a function that takes a number 1 to 9 from the user input (use input function inside a function). Store a number in a variable (let’s assume 6). If the input value is less than the variable, print (your guess is almost there), if the input value is greater than the variable, print - your guess is higher, if the input value and variable are equals, print - Your Guess Is Correct!"
   ]
  },
  {
   "cell_type": "code",
   "execution_count": 5,
   "metadata": {},
   "outputs": [
    {
     "name": "stdout",
     "output_type": "stream",
     "text": [
      "Your guess is higher\n"
     ]
    }
   ],
   "source": [
    "def inr():\n",
    "    x = int(input(\"Enter a number\"))\n",
    "    if(x==y):\n",
    "        print(\" Your Guess Is Correct!\")\n",
    "    elif(x>y):\n",
    "        print(\"Your guess is higher\")\n",
    "    else:\n",
    "        print(\"Your guess is almost there\")\n",
    "\n",
    "\n",
    "y=6\n",
    "inr()"
   ]
  },
  {
   "cell_type": "markdown",
   "metadata": {},
   "source": [
    "Problem-9: Find if 6 is available in the list\n"
   ]
  },
  {
   "cell_type": "code",
   "execution_count": 8,
   "metadata": {},
   "outputs": [
    {
     "name": "stdout",
     "output_type": "stream",
     "text": [
      "6 is available in the list.\n"
     ]
    }
   ],
   "source": [
    "my_list = [4, 8, 7, 4, 3,6 , 2, 1, 9]\n",
    "\n",
    "\n",
    "\n",
    "if 6 in my_list:\n",
    "    print(\"6 is available in the list.\")\n",
    "else:\n",
    "    print(\"6 is NOT available in the list.\")\n"
   ]
  },
  {
   "cell_type": "markdown",
   "metadata": {},
   "source": [
    "Problem-10: The list below is the collection of the ages of people from a village. Clean up the data and store only numbers in another list."
   ]
  },
  {
   "cell_type": "code",
   "execution_count": 10,
   "metadata": {},
   "outputs": [
    {
     "data": {
      "text/plain": [
       "[13, 24, 45, 17, 18.5]"
      ]
     },
     "execution_count": 10,
     "metadata": {},
     "output_type": "execute_result"
    }
   ],
   "source": [
    "data_list = [13, 24, 'Karim', {'name': 'guru'}, 45, 17 , 18.5]\n",
    "ages =[item for item in data_list if isinstance(item , (int , float))]\n",
    "ages"
   ]
  },
  {
   "cell_type": "markdown",
   "metadata": {},
   "source": [
    "Problem-11: Find the most frequent character in the paragraph\n",
    "rhyme = 'Twinkle, twinkle, little star. How I wonder what you are!"
   ]
  },
  {
   "cell_type": "code",
   "execution_count": 12,
   "metadata": {},
   "outputs": [
    {
     "name": "stdout",
     "output_type": "stream",
     "text": [
      "The most frequent character is 't' appearing 6 times.\n"
     ]
    }
   ],
   "source": [
    "import string\n",
    "from collections import Counter\n",
    "\n",
    "rhyme = 'Twinkle, twinkle, little star. How I wonder what you are!'\n",
    "\n",
    "l = rhyme.lower()\n",
    "\n",
    "#punctuation remove korte hobe\n",
    "\n",
    "new_l = [item for item in l if item.isalpha()]\n",
    "\n",
    "char_counts = Counter(new_l)\n",
    "most_common_char , counts = char_counts.most_common(1)[0]\n",
    "\n",
    "print(f\"The most frequent character is '{most_common_char}' appearing {counts} times.\")\n"
   ]
  },
  {
   "cell_type": "markdown",
   "metadata": {},
   "source": [
    "Problem-12: Find the common items between the lists and make SUM of the new list items which are common between the lists.\n",
    "list1 = [3, 5, 7, 4, 8, 8]\n",
    "\n",
    "list2 = [4, 9, 8, 7, 1, 1, 13]"
   ]
  },
  {
   "cell_type": "code",
   "execution_count": 13,
   "metadata": {},
   "outputs": [
    {
     "name": "stdout",
     "output_type": "stream",
     "text": [
      "Common items: {8, 4, 7}\n",
      "Sum of common items: 19\n"
     ]
    }
   ],
   "source": [
    "list1 = [3, 5, 7, 4, 8, 8]\n",
    "list2 = [4, 9, 8, 7, 1, 1, 13]\n",
    "\n",
    "\n",
    "common_items = set(list1) & set(list2)  # intersection of sets\n",
    "result = sum(common_items)\n",
    "\n",
    "print(\"Common items:\", common_items)\n",
    "print(\"Sum of common items:\", result)\n"
   ]
  },
  {
   "cell_type": "markdown",
   "metadata": {},
   "source": [
    "Problem-13: Compare the two dictionaries and find the common items based on KEYs of the dictionaries\n",
    "dict1 = {'age': 13, 'id': 12, 'address': 'Banani', 'course': 'Python'}\n",
    "\n",
    "dict2 = {'address': 'Rupnagar', 'id': 25, 'course': 'MERN'}"
   ]
  },
  {
   "cell_type": "code",
   "execution_count": 14,
   "metadata": {},
   "outputs": [
    {
     "name": "stdout",
     "output_type": "stream",
     "text": [
      "Common keys: {'address', 'course', 'id'}\n",
      "address: Banani,Rupnagar\n",
      "course: Python,MERN\n",
      "id: 12,25\n"
     ]
    }
   ],
   "source": [
    "dict1 = {'age': 13, 'id': 12, 'address': 'Banani', 'course': 'Python'}\n",
    "dict2 = {'address': 'Rupnagar', 'id': 25, 'course': 'MERN'}\n",
    "\n",
    "\n",
    "common_keys = dict1.keys() & dict2.keys()\n",
    "\n",
    "print(\"Common keys:\", common_keys)\n",
    "\n",
    "for key in common_keys:\n",
    "    print(f\"{key}: {dict1[key]},{dict2[key]}\")\n"
   ]
  },
  {
   "cell_type": "markdown",
   "metadata": {},
   "source": [
    "Problem-14: Sort the list in DESCENDING order and find the subtraction of maximum and minimum numbers.\n",
    "list_1 = [4, 9, 8, 7, 5, 2, 13]"
   ]
  },
  {
   "cell_type": "code",
   "execution_count": 25,
   "metadata": {},
   "outputs": [
    {
     "name": "stdout",
     "output_type": "stream",
     "text": [
      "Subtraction of Maximum and Minimum is 7\n"
     ]
    }
   ],
   "source": [
    "list = [4, 9 , 8 , 7 , 5 , 2]\n",
    "list1 =list[::-1]\n",
    "x = max(list1)\n",
    "y = min(list1)\n",
    "res=(x-y)\n",
    "\n",
    "print(f\"Subtraction of Maximum and Minimum is {res}\")\n"
   ]
  },
  {
   "cell_type": "markdown",
   "metadata": {},
   "source": [
    "Problem-15: Write conditional statements to identify the student’s average marks. If any subject’s mark is less than 40, you should print FAILED instead of making average marks\n",
    "lstudent_1 = [40, 35, 70, 90, 56]\n",
    "\n",
    "student_2 = [57, 35, 80, 98, 46]"
   ]
  },
  {
   "cell_type": "code",
   "execution_count": null,
   "metadata": {},
   "outputs": [],
   "source": [
    "marks = [45, 78, 90, 38, 88]  \n",
    "\n",
    "failed = False\n",
    "for mark in marks:\n",
    "    if mark < 40:\n",
    "        failed = True\n",
    "        break \n",
    "\n",
    "if failed:\n",
    "    print(\"FAILED\")\n",
    "else:\n",
    "    average = sum(marks) / len(marks)\n",
    "    print(f\"Average marks: {average}\")\n"
   ]
  }
 ],
 "metadata": {
  "kernelspec": {
   "display_name": "Python 3",
   "language": "python",
   "name": "python3"
  },
  "language_info": {
   "codemirror_mode": {
    "name": "ipython",
    "version": 3
   },
   "file_extension": ".py",
   "mimetype": "text/x-python",
   "name": "python",
   "nbconvert_exporter": "python",
   "pygments_lexer": "ipython3",
   "version": "3.13.3"
  }
 },
 "nbformat": 4,
 "nbformat_minor": 2
}
